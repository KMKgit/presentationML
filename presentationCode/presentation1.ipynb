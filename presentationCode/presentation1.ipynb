{
 "cells": [
  {
   "cell_type": "code",
   "execution_count": null,
   "metadata": {
    "collapsed": true
   },
   "outputs": [],
   "source": [
    "import tensorflow as tf\n",
    "\n",
    "b = tf.Variable(tf.zeros[100])\n",
    "W = tf.Variable(tf.random_uniform([784, 100], -1, 1))\n",
    "x = tf.placeholder(name=\"x\")\n",
    "relu = tf.nn.relu(tf.matmul(W, x) + b)\n",
    "C = [...]\n",
    "\n",
    "s = tf.Session()\n",
    "for step in xrange(0, 10):\n",
    "    input = ...construct 100-D input array ...\n",
    "    result = s.run(C, feed_dict = {x : input})\n",
    "    print (step, result)"
   ]
  }
 ],
 "metadata": {
  "kernelspec": {
   "display_name": "Python 3",
   "language": "python",
   "name": "python3"
  },
  "language_info": {
   "codemirror_mode": {
    "name": "ipython",
    "version": 3
   },
   "file_extension": ".py",
   "mimetype": "text/x-python",
   "name": "python",
   "nbconvert_exporter": "python",
   "pygments_lexer": "ipython3",
   "version": "3.5.3"
  }
 },
 "nbformat": 4,
 "nbformat_minor": 2
}
