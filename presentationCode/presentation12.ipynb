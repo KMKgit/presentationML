{
 "cells": [
  {
   "cell_type": "code",
   "execution_count": null,
   "metadata": {
    "collapsed": true
   },
   "outputs": [],
   "source": [
    "# define model\n",
    "\n",
    "# create a saver object\n",
    "saver = tf.train.Saver()\n",
    "\n",
    "# launch a session to compute the graph\n",
    "with tf.Session() as sess:\n",
    "    # actual training loop\n",
    "    for step in range(training_steps):\n",
    "        sess.run([optimizer])\n",
    "        \n",
    "        if (step + 1) % 1000 == 0:\n",
    "            saver.save(sess, 'checkpoint_directory/model_name',\n",
    "                      global_step=model.global_step)\n",
    "\n",
    "            "
   ]
  }
 ],
 "metadata": {
  "kernelspec": {
   "display_name": "Python 3",
   "language": "python",
   "name": "python3"
  },
  "language_info": {
   "codemirror_mode": {
    "name": "ipython",
    "version": 3
   },
   "file_extension": ".py",
   "mimetype": "text/x-python",
   "name": "python",
   "nbconvert_exporter": "python",
   "pygments_lexer": "ipython3",
   "version": "3.5.3"
  }
 },
 "nbformat": 4,
 "nbformat_minor": 2
}
