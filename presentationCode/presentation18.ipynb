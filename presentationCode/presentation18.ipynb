{
 "cells": [
  {
   "cell_type": "code",
   "execution_count": null,
   "metadata": {
    "collapsed": true
   },
   "outputs": [],
   "source": [
    "def write_to_tfrecord(label, shape, binary_image, tfrecord_file):\n",
    "    \"\"\"\n",
    "       This example is to write a sample to TFRecord file. \n",
    "       If you want to write more samples, just use a loop.\n",
    "    \"\"\"\n",
    "    \n",
    "    writer = tf.python_io.TFRecordWriter(tfrecord_file)\n",
    "    # write lable, shape, and image content to ther TFRecord file\n",
    "    \n",
    "    example = tf.train.Example(features=tf.train.Features(feature={\n",
    "        'label': tf.train.Feature(bytes_list=tf.train.BytesList(value=[label])),\n",
    "        'shape': tf.train.Feature(bytes_list=tf.train.BytesList(value=[shape])),\n",
    "        'image': tf.train.Feature(bytes_list=tf.train.BytesList(value=[binary_image]))\n",
    "    }))\n",
    "    \n",
    "    writer.write(example.SerializeToString())\n",
    "    writer.close()\n",
    "    \n",
    "    "
   ]
  }
 ],
 "metadata": {
  "kernelspec": {
   "display_name": "Python 3",
   "language": "python",
   "name": "python3"
  },
  "language_info": {
   "codemirror_mode": {
    "name": "ipython",
    "version": 3
   },
   "file_extension": ".py",
   "mimetype": "text/x-python",
   "name": "python",
   "nbconvert_exporter": "python",
   "pygments_lexer": "ipython3",
   "version": "3.5.3"
  }
 },
 "nbformat": 4,
 "nbformat_minor": 2
}
