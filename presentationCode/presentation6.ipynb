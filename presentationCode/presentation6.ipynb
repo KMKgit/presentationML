{
 "cells": [
  {
   "cell_type": "code",
   "execution_count": null,
   "metadata": {
    "collapsed": true
   },
   "outputs": [],
   "source": [
    "# create variable a with scalar value\n",
    "a = tf.Variable(2, name=\"scalar\")\n",
    "\n",
    "# create variable b as a vector\n",
    "b = tf.Variable([2, 3], name=\"bios_vector\")\n",
    "\n",
    "# create variable c as a 2x2 matrix\n",
    "c = tf.Variable([[0, 1], [2, 3]], name =\"2x2_matrix\")\n",
    "\n",
    "# create variable W as 784 * 10 tensor, filled with zeros\n",
    "W = tf.Variable(tf.zeros([784, 10]))\n"
   ]
  }
 ],
 "metadata": {
  "kernelspec": {
   "display_name": "Python 3",
   "language": "python",
   "name": "python3"
  },
  "language_info": {
   "codemirror_mode": {
    "name": "ipython",
    "version": 3
   },
   "file_extension": ".py",
   "mimetype": "text/x-python",
   "name": "python",
   "nbconvert_exporter": "python",
   "pygments_lexer": "ipython3",
   "version": "3.5.3"
  }
 },
 "nbformat": 4,
 "nbformat_minor": 2
}
